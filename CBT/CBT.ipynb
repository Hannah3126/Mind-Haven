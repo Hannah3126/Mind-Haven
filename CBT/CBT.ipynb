{
 "cells": [
  {
   "cell_type": "code",
   "execution_count": 39,
   "metadata": {},
   "outputs": [
    {
     "name": "stderr",
     "output_type": "stream",
     "text": [
      "[nltk_data] Downloading package vader_lexicon to\n",
      "[nltk_data]     /Users/hannahjoshua/nltk_data...\n"
     ]
    },
    {
     "data": {
      "text/plain": [
       "True"
      ]
     },
     "execution_count": 39,
     "metadata": {},
     "output_type": "execute_result"
    }
   ],
   "source": [
    "import pandas as pd\n",
    "from sentence_transformers import SentenceTransformer\n",
    "import faiss\n",
    "import numpy as np\n",
    "import matplotlib.pyplot as plt\n",
    "import seaborn as sns\n",
    "import nltk\n",
    "nltk.download('vader_lexicon')"
   ]
  },
  {
   "cell_type": "code",
   "execution_count": 40,
   "metadata": {},
   "outputs": [],
   "source": [
    "from nltk.sentiment import SentimentIntensityAnalyzer\n",
    "sia = SentimentIntensityAnalyzer()"
   ]
  },
  {
   "cell_type": "code",
   "execution_count": 2,
   "metadata": {},
   "outputs": [
    {
     "data": {
      "text/html": [
       "<div>\n",
       "<style scoped>\n",
       "    .dataframe tbody tr th:only-of-type {\n",
       "        vertical-align: middle;\n",
       "    }\n",
       "\n",
       "    .dataframe tbody tr th {\n",
       "        vertical-align: top;\n",
       "    }\n",
       "\n",
       "    .dataframe thead th {\n",
       "        text-align: right;\n",
       "    }\n",
       "</style>\n",
       "<table border=\"1\" class=\"dataframe\">\n",
       "  <thead>\n",
       "    <tr style=\"text-align: right;\">\n",
       "      <th></th>\n",
       "      <th>situation</th>\n",
       "      <th>thought</th>\n",
       "      <th>reframe</th>\n",
       "      <th>thinking_traps_addressed</th>\n",
       "    </tr>\n",
       "  </thead>\n",
       "  <tbody>\n",
       "    <tr>\n",
       "      <th>0</th>\n",
       "      <td>A Roomate of mine stole my comptuer</td>\n",
       "      <td>Someone I trusted stole something valuable of ...</td>\n",
       "      <td>My roommate stole something of mine, and I wil...</td>\n",
       "      <td>emotional reasoning</td>\n",
       "    </tr>\n",
       "    <tr>\n",
       "      <th>1</th>\n",
       "      <td>A Roomate of mine stole my comptuer</td>\n",
       "      <td>Someone I trusted stole something valuable of ...</td>\n",
       "      <td>While I would like there to be consequences fo...</td>\n",
       "      <td>emotional reasoning</td>\n",
       "    </tr>\n",
       "    <tr>\n",
       "      <th>2</th>\n",
       "      <td>A few days ago, I got angry at my husband's gr...</td>\n",
       "      <td>She doesn't respect me.</td>\n",
       "      <td>She is older and may have been tired</td>\n",
       "      <td>overgeneralizing</td>\n",
       "    </tr>\n",
       "    <tr>\n",
       "      <th>3</th>\n",
       "      <td>A few days ago, I got angry at my husband's gr...</td>\n",
       "      <td>She doesn't respect me.</td>\n",
       "      <td>I felt disrespected by her actions, but that d...</td>\n",
       "      <td>overgeneralizing</td>\n",
       "    </tr>\n",
       "    <tr>\n",
       "      <th>4</th>\n",
       "      <td>A friend who is a recent widower has started d...</td>\n",
       "      <td>My friend is ignoring his recently-deceased wife.</td>\n",
       "      <td>Maybe my friend is in a healthy spot to date n...</td>\n",
       "      <td>disqualifying the positive</td>\n",
       "    </tr>\n",
       "  </tbody>\n",
       "</table>\n",
       "</div>"
      ],
      "text/plain": [
       "                                           situation  \\\n",
       "0                A Roomate of mine stole my comptuer   \n",
       "1                A Roomate of mine stole my comptuer   \n",
       "2  A few days ago, I got angry at my husband's gr...   \n",
       "3  A few days ago, I got angry at my husband's gr...   \n",
       "4  A friend who is a recent widower has started d...   \n",
       "\n",
       "                                             thought  \\\n",
       "0  Someone I trusted stole something valuable of ...   \n",
       "1  Someone I trusted stole something valuable of ...   \n",
       "2                            She doesn't respect me.   \n",
       "3                            She doesn't respect me.   \n",
       "4  My friend is ignoring his recently-deceased wife.   \n",
       "\n",
       "                                             reframe  \\\n",
       "0  My roommate stole something of mine, and I wil...   \n",
       "1  While I would like there to be consequences fo...   \n",
       "2               She is older and may have been tired   \n",
       "3  I felt disrespected by her actions, but that d...   \n",
       "4  Maybe my friend is in a healthy spot to date n...   \n",
       "\n",
       "     thinking_traps_addressed  \n",
       "0         emotional reasoning  \n",
       "1         emotional reasoning  \n",
       "2            overgeneralizing  \n",
       "3            overgeneralizing  \n",
       "4  disqualifying the positive  "
      ]
     },
     "execution_count": 2,
     "metadata": {},
     "output_type": "execute_result"
    }
   ],
   "source": [
    "df = pd.read_csv(\"reframing_dataset.csv\")\n",
    "\n",
    "df.head()"
   ]
  },
  {
   "cell_type": "code",
   "execution_count": 3,
   "metadata": {},
   "outputs": [
    {
     "name": "stdout",
     "output_type": "stream",
     "text": [
      "Shape: (600, 4)\n",
      "Columns: ['situation', 'thought', 'reframe', 'thinking_traps_addressed']\n"
     ]
    }
   ],
   "source": [
    "print(\"Shape:\", df.shape)\n",
    "print(\"Columns:\", df.columns.tolist())"
   ]
  },
  {
   "cell_type": "code",
   "execution_count": 10,
   "metadata": {},
   "outputs": [
    {
     "name": "stdout",
     "output_type": "stream",
     "text": [
      "\n",
      "Dataset Info:\n",
      "<class 'pandas.core.frame.DataFrame'>\n",
      "RangeIndex: 600 entries, 0 to 599\n",
      "Data columns (total 4 columns):\n",
      " #   Column                    Non-Null Count  Dtype \n",
      "---  ------                    --------------  ----- \n",
      " 0   situation                 600 non-null    object\n",
      " 1   thought                   600 non-null    object\n",
      " 2   reframe                   600 non-null    object\n",
      " 3   thinking_traps_addressed  600 non-null    object\n",
      "dtypes: object(4)\n",
      "memory usage: 18.9+ KB\n",
      "\n",
      "Missing Values:\n",
      "situation                   0\n",
      "thought                     0\n",
      "reframe                     0\n",
      "thinking_traps_addressed    0\n",
      "dtype: int64\n",
      "\n",
      "Duplicate Rows: 0\n",
      "['situation', 'thought', 'reframe', 'thinking_traps_addressed']\n"
     ]
    }
   ],
   "source": [
    "# Data types and non-null counts\n",
    "print(\"\\nDataset Info:\")\n",
    "df.info()\n",
    "\n",
    "# Missing values\n",
    "print(\"\\nMissing Values:\")\n",
    "print(df.isnull().sum())\n",
    "\n",
    "# Check duplicates\n",
    "print(\"\\nDuplicate Rows:\", df.duplicated().sum())\n",
    "\n",
    "print(df.columns.tolist())"
   ]
  },
  {
   "cell_type": "code",
   "execution_count": 11,
   "metadata": {},
   "outputs": [
    {
     "name": "stdout",
     "output_type": "stream",
     "text": [
      "thought\n",
      "I'm worthless                                                              10\n",
      "No one cares about me                                                      10\n",
      "I am scared something bad will happen to the people I love                  4\n",
      "I'm a failure                                                               4\n",
      "I feel like a failure                                                       4\n",
      "                                                                           ..\n",
      "I want to die                                                               2\n",
      "That I'm going to fail                                                      2\n",
      "I keep failing at this                                                      2\n",
      "People will never perceive me as acting naturally in social situations.     2\n",
      "maybe she doesn't like me anymore.                                          2\n",
      "Name: count, Length: 286, dtype: int64\n",
      "reframe\n",
      "My roommate stole something of mine, and I will focus on actionable solutions to address this.                                                             1\n",
      "My boyfriend didn't reply back to my text right away, therefore he must be busy and will likely text back when he is able.                                 1\n",
      "There are things in my life that I do well, and I feel confident and proud of those things.                                                                1\n",
      "It's okay for me to lose a game. I can be good at some things and not as good at other things.                                                             1\n",
      "i can do both at the same time.                                                                                                                            1\n",
      "                                                                                                                                                          ..\n",
      "I wonder if sales is the right job for me. I have a lot of skills to offer and will find the right job for me in the future.                               1\n",
      "I'm feeling hurt from losing that job. It's normal to doubt myself but I have had successes in the past and will again in the future.                      1\n",
      "Though I generally feel bad, there are times that I feel joy, like when I exercise or hang out with friends.                                               1\n",
      "I am doing a lot of cool things and still feeling bad.  This is not normal, and I can reach out for help if I think that there's nothing else I can do.    1\n",
      "My friend is probably really busy dealing with her car getting broken into, she will probably respond to me later.                                         1\n",
      "Name: count, Length: 600, dtype: int64\n",
      "thinking_traps_addressed\n",
      "negative feeling or emotion                                             60\n",
      "personalizing                                                           40\n",
      "overgeneralizing                                                        39\n",
      "labeling                                                                39\n",
      "fortune telling                                                         36\n",
      "                                                                        ..\n",
      "blaming,should statements                                                1\n",
      "personalizing,all-or-nothing thinking                                    1\n",
      "labeling,magnification                                                   1\n",
      "disqualifying the positive,negative feeling or emotion,magnification     1\n",
      "all-or-nothing thinking,catastrophizing,blaming                          1\n",
      "Name: count, Length: 131, dtype: int64\n"
     ]
    }
   ],
   "source": [
    "print(df['thought'].value_counts(dropna=False))\n",
    "print(df['reframe'].value_counts(dropna=False))\n",
    "print(df['thinking_traps_addressed'].value_counts(dropna=False))"
   ]
  },
  {
   "cell_type": "code",
   "execution_count": 12,
   "metadata": {},
   "outputs": [
    {
     "name": "stdout",
     "output_type": "stream",
     "text": [
      "Empty strings in 'situation': 0\n",
      "Empty strings in 'thought': 0\n",
      "Empty strings in 'reframe': 0\n"
     ]
    }
   ],
   "source": [
    "for col in ['situation', 'thought', 'reframe']:\n",
    "    empty_count = df[col].apply(lambda x: isinstance(x, str) and x.strip() == '').sum()\n",
    "    print(f\"Empty strings in '{col}':\", empty_count)"
   ]
  },
  {
   "cell_type": "code",
   "execution_count": 13,
   "metadata": {},
   "outputs": [],
   "source": [
    "df.columns = df.columns.str.strip().str.lower()\n",
    "\n",
    "# Clean whitespace from all string fields\n",
    "for col in ['situation', 'thought', 'reframe', 'thinking_traps_addressed']:\n",
    "    df[col] = df[col].astype(str).str.strip()"
   ]
  },
  {
   "cell_type": "code",
   "execution_count": 14,
   "metadata": {},
   "outputs": [
    {
     "data": {
      "text/html": [
       "<div>\n",
       "<style scoped>\n",
       "    .dataframe tbody tr th:only-of-type {\n",
       "        vertical-align: middle;\n",
       "    }\n",
       "\n",
       "    .dataframe tbody tr th {\n",
       "        vertical-align: top;\n",
       "    }\n",
       "\n",
       "    .dataframe thead th {\n",
       "        text-align: right;\n",
       "    }\n",
       "</style>\n",
       "<table border=\"1\" class=\"dataframe\">\n",
       "  <thead>\n",
       "    <tr style=\"text-align: right;\">\n",
       "      <th></th>\n",
       "      <th>thought_length</th>\n",
       "      <th>reframe_length</th>\n",
       "    </tr>\n",
       "  </thead>\n",
       "  <tbody>\n",
       "    <tr>\n",
       "      <th>count</th>\n",
       "      <td>600.000000</td>\n",
       "      <td>600.000000</td>\n",
       "    </tr>\n",
       "    <tr>\n",
       "      <th>mean</th>\n",
       "      <td>40.266667</td>\n",
       "      <td>114.920000</td>\n",
       "    </tr>\n",
       "    <tr>\n",
       "      <th>std</th>\n",
       "      <td>29.161496</td>\n",
       "      <td>53.129196</td>\n",
       "    </tr>\n",
       "    <tr>\n",
       "      <th>min</th>\n",
       "      <td>8.000000</td>\n",
       "      <td>14.000000</td>\n",
       "    </tr>\n",
       "    <tr>\n",
       "      <th>25%</th>\n",
       "      <td>21.000000</td>\n",
       "      <td>75.000000</td>\n",
       "    </tr>\n",
       "    <tr>\n",
       "      <th>50%</th>\n",
       "      <td>32.000000</td>\n",
       "      <td>105.000000</td>\n",
       "    </tr>\n",
       "    <tr>\n",
       "      <th>75%</th>\n",
       "      <td>51.000000</td>\n",
       "      <td>146.000000</td>\n",
       "    </tr>\n",
       "    <tr>\n",
       "      <th>max</th>\n",
       "      <td>192.000000</td>\n",
       "      <td>283.000000</td>\n",
       "    </tr>\n",
       "  </tbody>\n",
       "</table>\n",
       "</div>"
      ],
      "text/plain": [
       "       thought_length  reframe_length\n",
       "count      600.000000      600.000000\n",
       "mean        40.266667      114.920000\n",
       "std         29.161496       53.129196\n",
       "min          8.000000       14.000000\n",
       "25%         21.000000       75.000000\n",
       "50%         32.000000      105.000000\n",
       "75%         51.000000      146.000000\n",
       "max        192.000000      283.000000"
      ]
     },
     "execution_count": 14,
     "metadata": {},
     "output_type": "execute_result"
    }
   ],
   "source": [
    "df['thought_length'] = df['thought'].apply(len)\n",
    "df['reframe_length'] = df['reframe'].apply(len)\n",
    "\n",
    "df[['thought_length', 'reframe_length']].describe()"
   ]
  },
  {
   "cell_type": "code",
   "execution_count": 15,
   "metadata": {},
   "outputs": [],
   "source": [
    "# Save for future modeling or embedding\n",
    "df.to_csv(\"reframing_cleaned.csv\", index=False)"
   ]
  },
  {
   "cell_type": "code",
   "execution_count": 20,
   "metadata": {},
   "outputs": [
    {
     "data": {
      "text/plain": [
       "thinking_traps_addressed\n",
       "negative feeling or emotion    151\n",
       "overgeneralizing               107\n",
       "labeling                       102\n",
       "all-or-nothing thinking         99\n",
       "personalizing                   98\n",
       "Name: count, dtype: int64"
      ]
     },
     "execution_count": 20,
     "metadata": {},
     "output_type": "execute_result"
    }
   ],
   "source": [
    "trap_series = df[\"thinking_traps_addressed\"].dropna().apply(lambda x: [t.strip() for t in x.split(\",\")])\n",
    "all_traps = trap_series.explode()\n",
    "\n",
    "# Count frequencies\n",
    "trap_counts = all_traps.value_counts()\n",
    "trap_counts.head()"
   ]
  },
  {
   "cell_type": "code",
   "execution_count": 21,
   "metadata": {},
   "outputs": [
    {
     "name": "stderr",
     "output_type": "stream",
     "text": [
      "/var/folders/br/f7206zhd1jg1sk4fssqjr06r0000gn/T/ipykernel_67804/1019897493.py:2: FutureWarning: \n",
      "\n",
      "Passing `palette` without assigning `hue` is deprecated and will be removed in v0.14.0. Assign the `y` variable to `hue` and set `legend=False` for the same effect.\n",
      "\n",
      "  sns.barplot(y=trap_counts.index, x=trap_counts.values, palette=\"viridis\")\n"
     ]
    },
    {
     "data": {
      "image/png": "[encoded data removed]",
      "text/plain": [
       "<Figure size 1200x800 with 1 Axes>"
      ]
     },
     "metadata": {},
     "output_type": "display_data"
    }
   ],
   "source": [
    "plt.figure(figsize=(12, 8))\n",
    "sns.barplot(y=trap_counts.index, x=trap_counts.values, palette=\"viridis\")\n",
    "plt.xlabel(\"Count\")\n",
    "plt.ylabel(\"Thinking Trap\")\n",
    "plt.title(\"Distribution of Individual Thinking Traps\")\n",
    "plt.tight_layout()\n",
    "plt.show()"
   ]
  },
  {
   "cell_type": "code",
   "execution_count": 22,
   "metadata": {},
   "outputs": [
    {
     "data": {
      "text/plain": [
       "thinking_traps_addressed\n",
       "none                        1.981230\n",
       "magnification               1.564129\n",
       "comparing and despairing    1.251303\n",
       "Name: count, dtype: float64"
      ]
     },
     "execution_count": 22,
     "metadata": {},
     "output_type": "execute_result"
    }
   ],
   "source": [
    "# Percentage distribution of each trap\n",
    "trap_percent = (trap_counts / trap_counts.sum()) * 100\n",
    "\n",
    "# Display traps that make up less than 2% of the dataset\n",
    "trap_percent[trap_percent < 2].sort_values(ascending=False)"
   ]
  },
  {
   "cell_type": "code",
   "execution_count": 46,
   "metadata": {},
   "outputs": [],
   "source": [
    "def get_sentiment_score(text):\n",
    "    if pd.isna(text):\n",
    "        return None\n",
    "    return sia.polarity_scores(str(text))['compound']\n",
    "\n",
    "df['sentiment_thought'] = df['thought'].apply(get_sentiment_score)\n",
    "\n",
    "df['sentiment_reframe'] = df['reframe'].apply(get_sentiment_score)\n"
   ]
  },
  {
   "cell_type": "code",
   "execution_count": 47,
   "metadata": {},
   "outputs": [],
   "source": [
    "df['sentiment_shift'] = df['sentiment_reframe'] - df['sentiment_thought']"
   ]
  },
  {
   "cell_type": "code",
   "execution_count": 48,
   "metadata": {},
   "outputs": [
    {
     "name": "stdout",
     "output_type": "stream",
     "text": [
      "Average sentiment of original thoughts: -0.21018833333333334\n",
      "Average sentiment of reframed thoughts: 0.14660583333333332\n",
      "Average sentiment improvement: 0.3567941666666667\n"
     ]
    }
   ],
   "source": [
    "print(\"Average sentiment of original thoughts:\", df['sentiment_thought'].mean())\n",
    "print(\"Average sentiment of reframed thoughts:\", df['sentiment_reframe'].mean())\n",
    "print(\"Average sentiment improvement:\", df['sentiment_shift'].mean())"
   ]
  },
  {
   "cell_type": "code",
   "execution_count": 49,
   "metadata": {},
   "outputs": [
    {
     "name": "stdout",
     "output_type": "stream",
     "text": [
      "                                               thought  \\\n",
      "40                                     I hate everyone   \n",
      "78   I thought that I should have studied harder. I...   \n",
      "404                                 Never finding love   \n",
      "18                                   Suicidal thoughts   \n",
      "548                                      I'm a failure   \n",
      "\n",
      "                                               reframe  sentiment_shift  \n",
      "40   Some of the people in my life are mean to me. ...           1.5044  \n",
      "78   I prepared for this exam, but the material was...           1.4508  \n",
      "404  This person I liked didn't like me back.  I am...           1.4350  \n",
      "18   Even very attractive people sometimes have a h...           1.4350  \n",
      "548  There may be a good reason why they didn't kee...           1.4040  \n",
      "                                    thought  \\\n",
      "111   My coworkers are making fun of me now   \n",
      "146  I feel like I need to die to be happy.   \n",
      "169        I'm being mean to someone I love   \n",
      "385   I must not have been doing a good job   \n",
      "477                   No one cares about me   \n",
      "\n",
      "                                               reframe  sentiment_shift  \n",
      "111  It was an accident and misunderstanding. I can...          -1.1811  \n",
      "146  There are some things I don't like about mysel...          -1.1571  \n",
      "169  I was angry and said something hurtful to my f...          -1.1136  \n",
      "385  My boss is in a bad mood, that doesn't mean I ...          -1.1068  \n",
      "477  My partner and I are not together anymore but ...          -0.9858  \n"
     ]
    }
   ],
   "source": [
    "# Most improved (biggest positive shift)\n",
    "print(df.sort_values(by='sentiment_shift', ascending=False).head(5)[['thought', 'reframe', 'sentiment_shift']])\n",
    "\n",
    "# Worsened (negative shift — reframe worse than thought)\n",
    "print(df[df['sentiment_shift'] < 0].sort_values(by='sentiment_shift').head(5)[['thought', 'reframe', 'sentiment_shift']])"
   ]
  },
  {
   "cell_type": "code",
   "execution_count": 50,
   "metadata": {},
   "outputs": [
    {
     "name": "stdout",
     "output_type": "stream",
     "text": [
      "                                                       mean  count\n",
      "thinking_traps_addressed                                          \n",
      "blaming,should statements                           1.45080      1\n",
      "personalizing,catastrophizing                       1.37640      1\n",
      "fortune telling,catastrophizing,all-or-nothing ...  1.36940      1\n",
      "labeling,overgeneralizing,negative feeling or e...  1.32200      1\n",
      "mind reading,labeling,negative feeling or emoti...  1.32025      2\n",
      "...                                                     ...    ...\n",
      "blaming,personalizing                              -0.65340      1\n",
      "labeling,personalizing                             -0.69880      1\n",
      "labeling,emotional reasoning                       -0.79230      1\n",
      "overgeneralizing,mind reading                      -0.98580      1\n",
      "negative feeling or emotion,catastrophizing        -1.07650      2\n",
      "\n",
      "[131 rows x 2 columns]\n"
     ]
    }
   ],
   "source": [
    "trap_shift = df.groupby('thinking_traps_addressed')['sentiment_shift'].agg(['mean', 'count']).sort_values(by='mean', ascending=False)\n",
    "print(trap_shift)"
   ]
  },
  {
   "cell_type": "code",
   "execution_count": 57,
   "metadata": {},
   "outputs": [
    {
     "name": "stderr",
     "output_type": "stream",
     "text": [
      "/var/folders/br/f7206zhd1jg1sk4fssqjr06r0000gn/T/ipykernel_67804/1009048005.py:19: FutureWarning: \n",
      "\n",
      "Passing `palette` without assigning `hue` is deprecated and will be removed in v0.14.0. Assign the `x` variable to `hue` and set `legend=False` for the same effect.\n",
      "\n",
      "  sns.barplot(x=effect_counts.index, y=effect_counts.values, palette='coolwarm')\n"
     ]
    },
    {
     "data": {
      "image/png": "[encoded data removed]",
      "text/plain": [
       "<Figure size 800x600 with 1 Axes>"
      ]
     },
     "metadata": {},
     "output_type": "display_data"
    }
   ],
   "source": [
    "def label_shift(val):\n",
    "    if val > 0.1:\n",
    "        return \"Improved\"\n",
    "    elif val < -0.1:\n",
    "        return \"Worsened\"\n",
    "    else:\n",
    "        return \"Neutral\"\n",
    "\n",
    "trap_shift_reset['sentiment_effect'] = trap_shift_reset['mean'].apply(label_shift)\n",
    "\n",
    "# Preview\n",
    "trap_shift_reset[['thinking_traps_addressed', 'mean', 'count', 'sentiment_effect']]\n",
    "\n",
    "# Count of sentiment effects\n",
    "effect_counts = trap_shift_reset['sentiment_effect'].value_counts()\n",
    "\n",
    "# Plotting\n",
    "plt.figure(figsize=(8, 6))\n",
    "sns.barplot(x=effect_counts.index, y=effect_counts.values, palette='coolwarm')\n",
    "plt.title(\"Count of Sentiment Effects from Reframing\")\n",
    "plt.xlabel(\"Sentiment Effect\")\n",
    "plt.ylabel(\"Number of Thinking Trap Combinations\")\n",
    "plt.tight_layout()\n",
    "plt.show()"
   ]
  },
  {
   "cell_type": "code",
   "execution_count": 51,
   "metadata": {},
   "outputs": [
    {
     "data": {
      "image/png": "[encoded data removed]",
      "text/plain": [
       "<Figure size 640x480 with 1 Axes>"
      ]
     },
     "metadata": {},
     "output_type": "display_data"
    }
   ],
   "source": [
    "import matplotlib.pyplot as plt\n",
    "\n",
    "plt.bar(['Original Thoughts', 'Reframed Thoughts'], [df['sentiment_thought'].mean(), df['sentiment_reframe'].mean()], color=['red', 'green'])\n",
    "plt.title(\"Average Sentiment Shift\")\n",
    "plt.ylabel(\"Compound Sentiment Score\")\n",
    "plt.show()"
   ]
  }
 ],
 "metadata": {
  "kernelspec": {
   "display_name": "CBT Environment",
   "language": "python",
   "name": "cbt_env"
  },
  "language_info": {
   "codemirror_mode": {
    "name": "ipython",
    "version": 3
   },
   "file_extension": ".py",
   "mimetype": "text/x-python",
   "name": "python",
   "nbconvert_exporter": "python",
   "pygments_lexer": "ipython3",
   "version": "3.10.10"
  },
  "orig_nbformat": 4,
  "vscode": {
   "interpreter": {
    "hash": "b0fa6594d8f4cbf19f97940f81e996739fb7646882a419484c72d19e05852a7e"
   }
  }
 },
 "nbformat": 4,
 "nbformat_minor": 2
}

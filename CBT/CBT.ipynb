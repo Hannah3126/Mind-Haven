{
 "cells": [
  {
   "cell_type": "code",
   "execution_count": 1,
   "metadata": {},
   "outputs": [
    {
     "name": "stdout",
     "output_type": "stream",
     "text": [
      "zsh:1: /Users/hannahjoshua/Desktop/PRINC OF SOFT/CBT/cbt_env/bin/pip: bad interpreter: /Users/hannahjoshua/cbt_env/bin/python3: no such file or directory\n",
      "\n",
      "\u001b[1m[\u001b[0m\u001b[34;49mnotice\u001b[0m\u001b[1;39;49m]\u001b[0m\u001b[39;49m A new release of pip is available: \u001b[0m\u001b[31;49m24.1.2\u001b[0m\u001b[39;49m -> \u001b[0m\u001b[32;49m25.2\u001b[0m\n",
      "\u001b[1m[\u001b[0m\u001b[34;49mnotice\u001b[0m\u001b[1;39;49m]\u001b[0m\u001b[39;49m To update, run: \u001b[0m\u001b[32;49mpython3.10 -m pip install --upgrade pip\u001b[0m\n"
     ]
    }
   ],
   "source": [
    "!pip install -q sentence-transformers faiss-cpu"
   ]
  },
  {
   "cell_type": "code",
   "execution_count": null,
   "metadata": {},
   "outputs": [],
   "source": [
    "from sentence_transformers import SentenceTransformer\n",
    "import faiss\n",
    "import numpy as np"
   ]
  },
  {
   "cell_type": "code",
   "execution_count": null,
   "metadata": {},
   "outputs": [],
   "source": [
    "\n",
    "thought_response_pairs = [\n",
    "    (\"I'm a failure.\", \"Everyone fails sometimes. What matters is learning and growing.\"),\n",
    "    (\"Nobody likes me.\", \"Some people might not understand me yet, and that's okay.\"),\n",
    "    (\"I'll never get better.\", \"Progress takes time. I'm already improving by trying.\"),\n",
    "    (\"I always mess things up.\", \"Mistakes happen, but they help me improve.\"),\n",
    "    (\"I'm not good enough.\", \"I am doing my best, and that is enough.\"),\n",
    "    (\"I can't do this.\", \"It's okay to struggle. I can take it one step at a time.\"),\n",
    "    (\"I'm weak for feeling this way.\", \"Emotions don't make me weak. They make me human.\"),\n",
    "    (\"There's no point in trying.\", \"Every small effort counts. Change is possible.\"),\n",
    "]\n",
    "\n",
    "#dataset"
   ]
  }
 ],
 "metadata": {
  "kernelspec": {
   "display_name": "cbt_env",
   "language": "python",
   "name": "python3"
  },
  "language_info": {
   "codemirror_mode": {
    "name": "ipython",
    "version": 3
   },
   "file_extension": ".py",
   "mimetype": "text/x-python",
   "name": "python",
   "nbconvert_exporter": "python",
   "pygments_lexer": "ipython3",
   "version": "3.10.10"
  },
  "orig_nbformat": 4,
  "vscode": {
   "interpreter": {
    "hash": "9d3a252c477d831dbc8840a16166d15a7ca08c2b400c0b707c46188b97e36aaf"
   }
  }
 },
 "nbformat": 4,
 "nbformat_minor": 2
}
